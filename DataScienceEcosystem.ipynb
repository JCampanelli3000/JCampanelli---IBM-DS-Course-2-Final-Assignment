{
  "metadata": {
    "kernelspec": {
      "name": "python",
      "display_name": "Python (Pyodide)",
      "language": "python"
    },
    "language_info": {
      "codemirror_mode": {
        "name": "python",
        "version": 3
      },
      "file_extension": ".py",
      "mimetype": "text/x-python",
      "name": "python",
      "nbconvert_exporter": "python",
      "pygments_lexer": "ipython3",
      "version": "3.8"
    }
  },
  "nbformat_minor": 5,
  "nbformat": 4,
  "cells": [
    {
      "id": "12b83524-02d7-4063-8a19-466e01674066",
      "cell_type": "markdown",
      "source": "# Data Science Tools and Ecosystem",
      "metadata": {}
    },
    {
      "id": "f9669796-c019-45f8-817f-5b9f9b893569",
      "cell_type": "markdown",
      "source": "## *In this notebook, Data Science Tools and Ecosystem are summarized.*",
      "metadata": {}
    },
    {
      "id": "0b7ecb38-ecca-4bd4-b04d-afccc2799b59",
      "cell_type": "markdown",
      "source": "- Popular languages that Data Scientists use\n- Commonly used libraries\n- Data Science Tools\n- Evaluating arithmetic expressions in Python",
      "metadata": {}
    },
    {
      "id": "ba4eeedf-5de6-4908-96f0-49084a25dedf",
      "cell_type": "markdown",
      "source": "### Some of the popular languages that Data Scientists use are:\n1. Python\n2. R\n3. SQL\n4. Julia\n5. Scala",
      "metadata": {}
    },
    {
      "id": "01eeb51d-21e8-4f8a-bb7f-dbd40b8865d5",
      "cell_type": "markdown",
      "source": "### Some of the commonly used libraries used by Data Scientists include:\n1.  Pandas \n2.  Scipy\n3.  TensorFlow\n4.  Numpy",
      "metadata": {}
    },
    {
      "id": "296e6d0e-81fd-465b-afbb-c98bf0838fa4",
      "cell_type": "markdown",
      "source": "| Data Science Tools |\n| ------ |\n| Jupyter IDE |\n| RStudio |\n| Anaconda Navigator |\n",
      "metadata": {}
    },
    {
      "id": "ab680847-d1f4-4641-a2b4-8be4c1c56d76",
      "cell_type": "markdown",
      "source": "### Below are a few examples of evaluating arithmetic expressions in Python",
      "metadata": {}
    },
    {
      "id": "c8952648-811c-4a4e-bdcf-9d9d6eea7f32",
      "cell_type": "code",
      "source": "#This a simple arithmetic expression to mutiply then add integers# \n(3*4)+5",
      "metadata": {
        "trusted": true
      },
      "outputs": [
        {
          "execution_count": 19,
          "output_type": "execute_result",
          "data": {
            "text/plain": "17"
          },
          "metadata": {}
        }
      ],
      "execution_count": 19
    },
    {
      "id": "07522e75-1463-4611-9c9a-2ef24a54fc46",
      "cell_type": "code",
      "source": "#This will convert 200 minutes to hours by diving by 60\n200/60",
      "metadata": {
        "trusted": true
      },
      "outputs": [
        {
          "execution_count": 20,
          "output_type": "execute_result",
          "data": {
            "text/plain": "3.3333333333333335"
          },
          "metadata": {}
        }
      ],
      "execution_count": 20
    },
    {
      "id": "b51939e2-1570-42be-bdcb-135f54c15980",
      "cell_type": "markdown",
      "source": "## *Author:*  \nJeremiah Campanelli",
      "metadata": {}
    }
  ]
}